{
 "cells": [
  {
   "cell_type": "code",
   "execution_count": 2,
   "id": "ee568f0f",
   "metadata": {},
   "outputs": [],
   "source": [
    "import os\n",
    "\n",
    "os.environ['DJANGO_SETTINGS_MODULE'] = 'mysite.settings'\n",
    "os.environ[\"DJANGO_ALLOW_ASYNC_UNSAFE\"] = \"true\"\n",
    "\n",
    "import django\n",
    "django.setup()"
   ]
  },
  {
   "cell_type": "code",
   "execution_count": 3,
   "id": "19750caf",
   "metadata": {},
   "outputs": [],
   "source": [
    "from polls.models import Choice, Question\n",
    "from django.utils import timezone\n",
    "\n",
    "q = Question(question_text=\"What's now?\", pub_date=timezone.now())\n",
    "q.save()"
   ]
  },
  {
   "cell_type": "code",
   "execution_count": 5,
   "id": "f432732f",
   "metadata": {},
   "outputs": [
    {
     "data": {
      "text/plain": [
       "<QuerySet [<Question: What's now?>]>"
      ]
     },
     "execution_count": 5,
     "metadata": {},
     "output_type": "execute_result"
    }
   ],
   "source": [
    "Question.objects.all()"
   ]
  },
  {
   "cell_type": "code",
   "execution_count": 6,
   "id": "8f73fe27",
   "metadata": {},
   "outputs": [
    {
     "data": {
      "text/plain": [
       "<QuerySet [<Question: What's now?>]>"
      ]
     },
     "execution_count": 6,
     "metadata": {},
     "output_type": "execute_result"
    }
   ],
   "source": [
    "Question.objects.filter(id=1)"
   ]
  },
  {
   "cell_type": "code",
   "execution_count": 7,
   "id": "97908e54",
   "metadata": {},
   "outputs": [
    {
     "data": {
      "text/plain": [
       "<QuerySet [<Question: What's now?>]>"
      ]
     },
     "execution_count": 7,
     "metadata": {},
     "output_type": "execute_result"
    }
   ],
   "source": [
    "Question.objects.filter(question_text__startswith='What')"
   ]
  },
  {
   "cell_type": "code",
   "execution_count": 8,
   "id": "ac6de35f",
   "metadata": {},
   "outputs": [
    {
     "data": {
      "text/plain": [
       "<Question: What's now?>"
      ]
     },
     "execution_count": 8,
     "metadata": {},
     "output_type": "execute_result"
    }
   ],
   "source": [
    "current_year = timezone.now().year\n",
    "Question.objects.get(pub_date__year=current_year)"
   ]
  },
  {
   "cell_type": "code",
   "execution_count": 9,
   "id": "7a1aa306",
   "metadata": {},
   "outputs": [
    {
     "ename": "DoesNotExist",
     "evalue": "Question matching query does not exist.",
     "output_type": "error",
     "traceback": [
      "\u001b[1;31m-------------------------------------------------------------\u001b[0m",
      "\u001b[1;31mDoesNotExist\u001b[0m                Traceback (most recent call last)",
      "\u001b[1;32m<ipython-input-9-75091ca84516>\u001b[0m in \u001b[0;36m<module>\u001b[1;34m\u001b[0m\n\u001b[1;32m----> 1\u001b[1;33m \u001b[0mQuestion\u001b[0m\u001b[1;33m.\u001b[0m\u001b[0mobjects\u001b[0m\u001b[1;33m.\u001b[0m\u001b[0mget\u001b[0m\u001b[1;33m(\u001b[0m\u001b[0mid\u001b[0m\u001b[1;33m=\u001b[0m\u001b[1;36m2\u001b[0m\u001b[1;33m)\u001b[0m\u001b[1;33m\u001b[0m\u001b[1;33m\u001b[0m\u001b[0m\n\u001b[0m",
      "\u001b[1;32mc:\\users\\chldp\\onedrive\\바탕 화면\\django_tutorial\\myvenv\\lib\\site-packages\\django\\db\\models\\manager.py\u001b[0m in \u001b[0;36mmanager_method\u001b[1;34m(self, *args, **kwargs)\u001b[0m\n\u001b[0;32m     83\u001b[0m         \u001b[1;32mdef\u001b[0m \u001b[0mcreate_method\u001b[0m\u001b[1;33m(\u001b[0m\u001b[0mname\u001b[0m\u001b[1;33m,\u001b[0m \u001b[0mmethod\u001b[0m\u001b[1;33m)\u001b[0m\u001b[1;33m:\u001b[0m\u001b[1;33m\u001b[0m\u001b[1;33m\u001b[0m\u001b[0m\n\u001b[0;32m     84\u001b[0m             \u001b[1;32mdef\u001b[0m \u001b[0mmanager_method\u001b[0m\u001b[1;33m(\u001b[0m\u001b[0mself\u001b[0m\u001b[1;33m,\u001b[0m \u001b[1;33m*\u001b[0m\u001b[0margs\u001b[0m\u001b[1;33m,\u001b[0m \u001b[1;33m**\u001b[0m\u001b[0mkwargs\u001b[0m\u001b[1;33m)\u001b[0m\u001b[1;33m:\u001b[0m\u001b[1;33m\u001b[0m\u001b[1;33m\u001b[0m\u001b[0m\n\u001b[1;32m---> 85\u001b[1;33m                 \u001b[1;32mreturn\u001b[0m \u001b[0mgetattr\u001b[0m\u001b[1;33m(\u001b[0m\u001b[0mself\u001b[0m\u001b[1;33m.\u001b[0m\u001b[0mget_queryset\u001b[0m\u001b[1;33m(\u001b[0m\u001b[1;33m)\u001b[0m\u001b[1;33m,\u001b[0m \u001b[0mname\u001b[0m\u001b[1;33m)\u001b[0m\u001b[1;33m(\u001b[0m\u001b[1;33m*\u001b[0m\u001b[0margs\u001b[0m\u001b[1;33m,\u001b[0m \u001b[1;33m**\u001b[0m\u001b[0mkwargs\u001b[0m\u001b[1;33m)\u001b[0m\u001b[1;33m\u001b[0m\u001b[1;33m\u001b[0m\u001b[0m\n\u001b[0m\u001b[0;32m     86\u001b[0m             \u001b[0mmanager_method\u001b[0m\u001b[1;33m.\u001b[0m\u001b[0m__name__\u001b[0m \u001b[1;33m=\u001b[0m \u001b[0mmethod\u001b[0m\u001b[1;33m.\u001b[0m\u001b[0m__name__\u001b[0m\u001b[1;33m\u001b[0m\u001b[1;33m\u001b[0m\u001b[0m\n\u001b[0;32m     87\u001b[0m             \u001b[0mmanager_method\u001b[0m\u001b[1;33m.\u001b[0m\u001b[0m__doc__\u001b[0m \u001b[1;33m=\u001b[0m \u001b[0mmethod\u001b[0m\u001b[1;33m.\u001b[0m\u001b[0m__doc__\u001b[0m\u001b[1;33m\u001b[0m\u001b[1;33m\u001b[0m\u001b[0m\n",
      "\u001b[1;32mc:\\users\\chldp\\onedrive\\바탕 화면\\django_tutorial\\myvenv\\lib\\site-packages\\django\\db\\models\\query.py\u001b[0m in \u001b[0;36mget\u001b[1;34m(self, *args, **kwargs)\u001b[0m\n\u001b[0;32m    433\u001b[0m             \u001b[1;32mreturn\u001b[0m \u001b[0mclone\u001b[0m\u001b[1;33m.\u001b[0m\u001b[0m_result_cache\u001b[0m\u001b[1;33m[\u001b[0m\u001b[1;36m0\u001b[0m\u001b[1;33m]\u001b[0m\u001b[1;33m\u001b[0m\u001b[1;33m\u001b[0m\u001b[0m\n\u001b[0;32m    434\u001b[0m         \u001b[1;32mif\u001b[0m \u001b[1;32mnot\u001b[0m \u001b[0mnum\u001b[0m\u001b[1;33m:\u001b[0m\u001b[1;33m\u001b[0m\u001b[1;33m\u001b[0m\u001b[0m\n\u001b[1;32m--> 435\u001b[1;33m             raise self.model.DoesNotExist(\n\u001b[0m\u001b[0;32m    436\u001b[0m                 \u001b[1;34m\"%s matching query does not exist.\"\u001b[0m \u001b[1;33m%\u001b[0m\u001b[1;33m\u001b[0m\u001b[1;33m\u001b[0m\u001b[0m\n\u001b[0;32m    437\u001b[0m                 \u001b[0mself\u001b[0m\u001b[1;33m.\u001b[0m\u001b[0mmodel\u001b[0m\u001b[1;33m.\u001b[0m\u001b[0m_meta\u001b[0m\u001b[1;33m.\u001b[0m\u001b[0mobject_name\u001b[0m\u001b[1;33m\u001b[0m\u001b[1;33m\u001b[0m\u001b[0m\n",
      "\u001b[1;31mDoesNotExist\u001b[0m: Question matching query does not exist."
     ]
    }
   ],
   "source": [
    "Question.objects.get(id=2)"
   ]
  },
  {
   "cell_type": "code",
   "execution_count": 11,
   "id": "267d68e1",
   "metadata": {},
   "outputs": [
    {
     "data": {
      "text/plain": [
       "<Question: What's now?>"
      ]
     },
     "execution_count": 11,
     "metadata": {},
     "output_type": "execute_result"
    }
   ],
   "source": [
    "Question.objects.get(pk=1)\n",
    "Question.objects.get(id=1)"
   ]
  },
  {
   "cell_type": "code",
   "execution_count": 12,
   "id": "6e72e75c",
   "metadata": {},
   "outputs": [
    {
     "data": {
      "text/plain": [
       "True"
      ]
     },
     "execution_count": 12,
     "metadata": {},
     "output_type": "execute_result"
    }
   ],
   "source": [
    "q = Question.objects.get(pk=1)\n",
    "q.was_published_recently()"
   ]
  },
  {
   "cell_type": "code",
   "execution_count": 13,
   "id": "ebdfa78d",
   "metadata": {},
   "outputs": [
    {
     "data": {
      "text/plain": [
       "<QuerySet []>"
      ]
     },
     "execution_count": 13,
     "metadata": {},
     "output_type": "execute_result"
    }
   ],
   "source": [
    "q.choice_set.all()"
   ]
  },
  {
   "cell_type": "code",
   "execution_count": 14,
   "id": "978ea5bc",
   "metadata": {},
   "outputs": [
    {
     "data": {
      "text/plain": [
       "<Choice: Not much>"
      ]
     },
     "execution_count": 14,
     "metadata": {},
     "output_type": "execute_result"
    }
   ],
   "source": [
    "q.choice_set.create(choice_text='Not much', votes=0)"
   ]
  },
  {
   "cell_type": "code",
   "execution_count": 15,
   "id": "8b88161a",
   "metadata": {},
   "outputs": [
    {
     "data": {
      "text/plain": [
       "<QuerySet [<Choice: Not much>]>"
      ]
     },
     "execution_count": 15,
     "metadata": {},
     "output_type": "execute_result"
    }
   ],
   "source": [
    "q.choice_set.all()"
   ]
  },
  {
   "cell_type": "code",
   "execution_count": 16,
   "id": "6ef3baa5",
   "metadata": {},
   "outputs": [
    {
     "data": {
      "text/plain": [
       "1"
      ]
     },
     "execution_count": 16,
     "metadata": {},
     "output_type": "execute_result"
    }
   ],
   "source": [
    "q.choice_set.count()"
   ]
  },
  {
   "cell_type": "code",
   "execution_count": 18,
   "id": "fe25b427",
   "metadata": {},
   "outputs": [
    {
     "data": {
      "text/plain": [
       "<Choice: Not much>"
      ]
     },
     "execution_count": 18,
     "metadata": {},
     "output_type": "execute_result"
    }
   ],
   "source": [
    "c = Choice.objects.get(pk=1)\n",
    "c"
   ]
  },
  {
   "cell_type": "code",
   "execution_count": 20,
   "id": "99324c2f",
   "metadata": {},
   "outputs": [
    {
     "data": {
      "text/plain": [
       "<Question: What's now?>"
      ]
     },
     "execution_count": 20,
     "metadata": {},
     "output_type": "execute_result"
    }
   ],
   "source": [
    "c.question"
   ]
  },
  {
   "cell_type": "code",
   "execution_count": 21,
   "id": "d44c2f4b",
   "metadata": {},
   "outputs": [
    {
     "data": {
      "text/plain": [
       "\"What's now?\""
      ]
     },
     "execution_count": 21,
     "metadata": {},
     "output_type": "execute_result"
    }
   ],
   "source": [
    "c.question.question_text"
   ]
  },
  {
   "cell_type": "code",
   "execution_count": 22,
   "id": "527ea68c",
   "metadata": {},
   "outputs": [
    {
     "data": {
      "text/plain": [
       "<QuerySet [<Choice: Not much>]>"
      ]
     },
     "execution_count": 22,
     "metadata": {},
     "output_type": "execute_result"
    }
   ],
   "source": [
    "Choice.objects.filter(question__pub_date__year=current_year)"
   ]
  },
  {
   "cell_type": "code",
   "execution_count": 23,
   "id": "25661f39",
   "metadata": {},
   "outputs": [],
   "source": [
    "c = q.choice_set.filter(choice_text__startswith='Not')"
   ]
  },
  {
   "cell_type": "code",
   "execution_count": 24,
   "id": "f4af50fc",
   "metadata": {},
   "outputs": [
    {
     "data": {
      "text/plain": [
       "(1, {'polls.Choice': 1})"
      ]
     },
     "execution_count": 24,
     "metadata": {},
     "output_type": "execute_result"
    }
   ],
   "source": [
    "c.delete()"
   ]
  },
  {
   "cell_type": "code",
   "execution_count": null,
   "id": "f008ffcf",
   "metadata": {},
   "outputs": [],
   "source": []
  }
 ],
 "metadata": {
  "kernelspec": {
   "display_name": "Python 3",
   "language": "python",
   "name": "python3"
  },
  "language_info": {
   "codemirror_mode": {
    "name": "ipython",
    "version": 3
   },
   "file_extension": ".py",
   "mimetype": "text/x-python",
   "name": "python",
   "nbconvert_exporter": "python",
   "pygments_lexer": "ipython3",
   "version": "3.9.4"
  }
 },
 "nbformat": 4,
 "nbformat_minor": 5
}
