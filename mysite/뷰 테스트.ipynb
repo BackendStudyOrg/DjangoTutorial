{
 "cells": [
  {
   "cell_type": "code",
   "execution_count": 2,
   "id": "100f1132",
   "metadata": {},
   "outputs": [],
   "source": [
    "import os\n",
    "\n",
    "os.environ['DJANGO_SETTINGS_MODULE'] = 'mysite.settings'\n",
    "os.environ[\"DJANGO_ALLOW_ASYNC_UNSAFE\"] = \"true\"\n",
    "\n",
    "import django\n",
    "django.setup()"
   ]
  },
  {
   "cell_type": "code",
   "execution_count": 3,
   "id": "8774118a",
   "metadata": {},
   "outputs": [],
   "source": [
    "from django.test.utils import setup_test_environment\n",
    "setup_test_environment()"
   ]
  },
  {
   "cell_type": "code",
   "execution_count": 4,
   "id": "132c6473",
   "metadata": {},
   "outputs": [],
   "source": [
    "from django.test import Client\n",
    "client = Client()"
   ]
  },
  {
   "cell_type": "code",
   "execution_count": 8,
   "id": "b7b65bee",
   "metadata": {},
   "outputs": [
    {
     "name": "stderr",
     "output_type": "stream",
     "text": [
      "Not Found: /\n"
     ]
    }
   ],
   "source": [
    "# get a response from '/'\n",
    "response = client.get('/')"
   ]
  },
  {
   "cell_type": "code",
   "execution_count": 9,
   "id": "e720989f",
   "metadata": {},
   "outputs": [
    {
     "data": {
      "text/plain": [
       "404"
      ]
     },
     "execution_count": 9,
     "metadata": {},
     "output_type": "execute_result"
    }
   ],
   "source": [
    "# we should expect a 404 from that address\n",
    "# if you instead see an \"Invalide HTTP_HOST header\" error and a 400 response,\n",
    "# you probably ommitted the setup_test_environment() call described earlier\n",
    "response.status_code"
   ]
  },
  {
   "cell_type": "code",
   "execution_count": 19,
   "id": "1c6254df",
   "metadata": {},
   "outputs": [
    {
     "data": {
      "text/plain": [
       "200"
      ]
     },
     "execution_count": 19,
     "metadata": {},
     "output_type": "execute_result"
    }
   ],
   "source": [
    "# on the other hand we should expect to find something at '/polls/'\n",
    "# we'll use 'reverse()' rather than hardcoded URL\n",
    "\n",
    "from django.urls import reverse\n",
    "response = client.get(reverse('polls:index'))\n",
    "\n",
    "response.status_code"
   ]
  },
  {
   "cell_type": "code",
   "execution_count": null,
   "id": "45bfd54e",
   "metadata": {},
   "outputs": [],
   "source": []
  }
 ],
 "metadata": {
  "kernelspec": {
   "display_name": "Python 3",
   "language": "python",
   "name": "python3"
  },
  "language_info": {
   "codemirror_mode": {
    "name": "ipython",
    "version": 3
   },
   "file_extension": ".py",
   "mimetype": "text/x-python",
   "name": "python",
   "nbconvert_exporter": "python",
   "pygments_lexer": "ipython3",
   "version": "3.9.4"
  }
 },
 "nbformat": 4,
 "nbformat_minor": 5
}
